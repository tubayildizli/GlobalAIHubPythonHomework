{
  "nbformat": 4,
  "nbformat_minor": 0,
  "metadata": {
    "colab": {
      "name": "Untitled7.ipynb",
      "provenance": [],
      "authorship_tag": "ABX9TyPWsSFqKWd0Uin+jeNp2xsU",
      "include_colab_link": true
    },
    "kernelspec": {
      "name": "python3",
      "display_name": "Python 3"
    }
  },
  "cells": [
    {
      "cell_type": "markdown",
      "metadata": {
        "id": "view-in-github",
        "colab_type": "text"
      },
      "source": [
        "<a href=\"https://colab.research.google.com/github/tubayildizli/GlobalAIHubPythonHomework/blob/main/project.ipynb\" target=\"_parent\"><img src=\"https://colab.research.google.com/assets/colab-badge.svg\" alt=\"Open In Colab\"/></a>"
      ]
    },
    {
      "cell_type": "code",
      "metadata": {
        "colab": {
          "base_uri": "https://localhost:8080/"
        },
        "id": "wyRe3FMzHilE",
        "outputId": "812952c9-b54a-4465-e1da-923246710112"
      },
      "source": [
        "import time\r\n",
        "print(\"WELCOME TO THE STUDENT MANAGEMENT SYSTEM\")\r\n",
        "time.sleep(2)\r\n",
        "\r\n",
        "name = \"TUBA\"\r\n",
        "surname =\"YILDIZLI\"\r\n",
        "turns = 3\r\n",
        "courselist = ['Mathemathics', 'Chemistry', 'Physics', 'Biology', 'English', 'Python','Machine Learning','Deep Learning','Computer Vision']\r\n",
        "choosencourse = []\r\n",
        "exam = []\r\n",
        "\r\n",
        "while turns>0:\r\n",
        "    givenname = input(\"Write your name in capital letters: \")\r\n",
        "    givensurname = input(\"Write your surname in capital letters:  \")\r\n",
        "\r\n",
        "    if (givenname != name and givensurname == surname):\r\n",
        "        print(\"Incorrect name! Please try again.\")\r\n",
        "        turns -= 1\r\n",
        "        print('You have {} tries left'.format(turns))\r\n",
        "    elif (givenname ==name and givensurname != surname):\r\n",
        "        print(\"Incorrect surname! Please try again.\")\r\n",
        "        turns -= 1\r\n",
        "        print('You have {} tries left'.format(turns))\r\n",
        "    elif (givenname != name and givensurname != surname):\r\n",
        "        print(\"Incorrect name and surname! Please try again.\")\r\n",
        "        turns -= 1\r\n",
        "        print('You have {} tries left'.format(turns))\r\n",
        "    else:\r\n",
        "        print(\"Welcome\",givenname,givensurname)\r\n",
        "        turns = 0\r\n",
        "        break\r\n",
        "\r\n",
        "print(\"The courses you can take are listed below.\")\r\n",
        "time.sleep(2)\r\n",
        "print(courselist)\r\n",
        "time.sleep(2)\r\n",
        "print(\"You can take a minimum of 3 and maximum of 5 courses!\")\r\n",
        "\r\n",
        "\r\n",
        "while len(courselist) >= 0:\r\n",
        "    chosen1 = input(\"Write the first course name which you want to take:\")\r\n",
        "    choosencourse.append(chosen1)\r\n",
        "    chosen2 = input(\"Write the second course name which you want to take:\")\r\n",
        "    choosencourse.append(chosen2)\r\n",
        "    chosen3 = input(\"Write the third course name which you want to take:\")\r\n",
        "    choosencourse.append(chosen3)\r\n",
        "    go = input(\"Do you want to take another course? Y/N:\")\r\n",
        "    if go.upper() == \"Y\":\r\n",
        "        continue\r\n",
        "    elif go.upper() == \"N\":  \r\n",
        "        break      \r\n",
        "\r\n",
        "if len(choosencourse) >= 3:\r\n",
        "    print(\"Successfuly!\")\r\n",
        "elif len(choosencourse) > 5:\r\n",
        "    print(\"You must take maximum 5 course!\")\r\n",
        "\r\n",
        "time.sleep(1)\r\n",
        "print(\"The courses you have added are shown below.\")\r\n",
        "print(choosencourse)\r\n",
        "\r\n",
        "\r\n",
        "coursepass = input(\"Which course do you want to enter grades?: \")\r\n",
        "project = int(input('Your project grade:'))\r\n",
        "midterm = int(input('Your midterm grade:'))\r\n",
        "final = int(input('Your final grade:'))\r\n",
        "grade = project*0.2 + midterm*0.3 + final*0.5\r\n",
        "if grade <= 30:\r\n",
        "    print(f'You failed with an FF in {coursepass}. Your Note: {grade}')\r\n",
        "elif 30 < grade <= 50:\r\n",
        "    print(f'You successfully pass {coursepass} with an DD. Your Note: {grade}')\r\n",
        "elif 50 < grade <= 70:\r\n",
        "    print(f'You successfully pass {coursepass} with an CC. Your Note: {grade}')\r\n",
        "elif 70 < grade <= 90:\r\n",
        "    print(f'You successfully pass {coursepass} with an BB. Your Note: {grade}')\r\n",
        "elif grade >= 90:\r\n",
        "    print(f'You successfully pass {coursepass} with an AA. Your Note: {grade}')"
      ],
      "execution_count": 18,
      "outputs": [
        {
          "output_type": "stream",
          "text": [
            "WELCOME TO THE STUDENT MANAGEMENT SYSTEM\n",
            "Write your name in capital letters: TUBA\n",
            "Write your surname in capital letters:  YILDIZLI\n",
            "Welcome TUBA YILDIZLI\n",
            "The courses you can take are listed below.\n",
            "['Mathemathics', 'Chemistry', 'Physics', 'Biology', 'English', 'Python', 'Machine Learning', 'Deep Learning', 'Computer Vision']\n",
            "You can take a minimum of 3 and maximum of 5 courses!\n",
            "Write the first course name which you want to take:Physics\n",
            "Write the second course name which you want to take:English\n",
            "Write the third course name which you want to take:Python\n",
            "Do you want to take another course? Y/N:N\n",
            "Successfuly!\n",
            "The courses you have added are shown below.\n",
            "['Physics', 'English', 'Python']\n",
            "Which course do you want to enter grades?: Physics\n",
            "Your project grade:60\n",
            "Your midterm grade:70\n",
            "Your final grade:55\n",
            "You successfully pass Physics with an CC. Your Note: 60.5\n"
          ],
          "name": "stdout"
        }
      ]
    },
    {
      "cell_type": "code",
      "metadata": {
        "id": "sjCxI_3AH7xQ"
      },
      "source": [
        ""
      ],
      "execution_count": null,
      "outputs": []
    }
  ]
}