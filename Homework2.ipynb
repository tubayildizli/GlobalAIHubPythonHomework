{
  "nbformat": 4,
  "nbformat_minor": 0,
  "metadata": {
    "colab": {
      "name": "Untitled4.ipynb",
      "provenance": [],
      "authorship_tag": "ABX9TyPg3nsN8sqb8SaIwORKs9NZ",
      "include_colab_link": true
    },
    "kernelspec": {
      "name": "python3",
      "display_name": "Python 3"
    }
  },
  "cells": [
    {
      "cell_type": "markdown",
      "metadata": {
        "id": "view-in-github",
        "colab_type": "text"
      },
      "source": [
        "<a href=\"https://colab.research.google.com/github/tubayildizli/GlobalAIHubPythonHomework/blob/main/Homework2.ipynb\" target=\"_parent\"><img src=\"https://colab.research.google.com/assets/colab-badge.svg\" alt=\"Open In Colab\"/></a>"
      ]
    },
    {
      "cell_type": "code",
      "metadata": {
        "colab": {
          "base_uri": "https://localhost:8080/"
        },
        "id": "2uFrYrROHa4T",
        "outputId": "373e64b3-0a95-44fd-e5c1-f8cf591b3d6a"
      },
      "source": [
        "x= input( \"What is your first name? =\")\r\n",
        "y= input( \"What is your last name? =\")\r\n",
        "print(f\"Hello {x} {y}\")\r\n",
        "\r\n",
        "i= int(input( \"How old are you? =\"))\r\n",
        "j= input( \"When were you born? =\")\r\n",
        "print(f\"You are {i} years old\")\r\n",
        "givens=[]\r\n",
        "givens.append(x)\r\n",
        "givens.append(y)\r\n",
        "givens.append(i)\r\n",
        "givens.append(j)\r\n",
        "print(givens)\r\n",
        "\r\n",
        "if (i < 18):\r\n",
        "  print(\"You can't go out because it's too dangerous\")\r\n",
        "else:\r\n",
        "  print(\"You can go out to the street\")\r\n"
      ],
      "execution_count": 20,
      "outputs": [
        {
          "output_type": "stream",
          "text": [
            "What is your first name? =tuba\n",
            "What is your last name? =yıldızlı\n",
            "Hello tuba yıldızlı\n",
            "How old are you? =24\n",
            "When were you born? =1996\n",
            "You are 24 years old\n",
            "['tuba', 'yıldızlı', 24, '1996']\n",
            "You can go out to the street\n"
          ],
          "name": "stdout"
        }
      ]
    }
  ]
}