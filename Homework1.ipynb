{
  "nbformat": 4,
  "nbformat_minor": 0,
  "metadata": {
    "colab": {
      "name": "Untitled3.ipynb",
      "provenance": [],
      "authorship_tag": "ABX9TyOPFRuBhh9KQYOHNQkI+AtG",
      "include_colab_link": true
    },
    "kernelspec": {
      "name": "python3",
      "display_name": "Python 3"
    }
  },
  "cells": [
    {
      "cell_type": "markdown",
      "metadata": {
        "id": "view-in-github",
        "colab_type": "text"
      },
      "source": [
        "<a href=\"https://colab.research.google.com/github/tubayildizli/GlobalAIHubPythonHomework/blob/main/Homework1.ipynb\" target=\"_parent\"><img src=\"https://colab.research.google.com/assets/colab-badge.svg\" alt=\"Open In Colab\"/></a>"
      ]
    },
    {
      "cell_type": "code",
      "metadata": {
        "colab": {
          "base_uri": "https://localhost:8080/"
        },
        "id": "tRw8YNXPo92Q",
        "outputId": "f8f94e91-903b-4134-f937-c61b16489734"
      },
      "source": [
        "data1= input(\"What is your Name-Surname? \")\r\n",
        "print(f\"Answer is= {data1} , Name type is = {type(data1)}\")\r\n",
        "\r\n",
        "data2= bool(input(\"Are you married?(YES/NO) \"))\r\n",
        "print(f\"Answer is= {data2}, Name type is= {type(data2)}\")\r\n",
        "\r\n",
        "data3= bool(input(\"Do you have children?(YES/NO) \"))\r\n",
        "print(\"Answer is= {}, Name type is= {}\".format(data3 , type(data3)))\r\n",
        "\r\n",
        "data4= int(input(\"How old are you? \"))\r\n",
        "print(\"Answer is= {}, Name type is= {}\".format(data4 , type(data4)))\r\n",
        "\r\n",
        "data5= float(input(\"What is your weight? \"))\r\n",
        "print(f\"Answer is= {data5}, Name type is= {type(data5)}\")"
      ],
      "execution_count": 55,
      "outputs": [
        {
          "output_type": "stream",
          "text": [
            "What is your Name-Surname? xxx\n",
            "Answer is= xxx , Name type is = <class 'str'>\n",
            "Are you married?(YES/NO) yes\n",
            "Answer is= True, Name type is= <class 'bool'>\n",
            "Do you have children?(YES/NO) no\n",
            "Answer is= True, Name type is= <class 'bool'>\n",
            "How old are you? 24\n",
            "Answer is= 24, Name type is= <class 'int'>\n",
            "What is your weight? 60.5\n",
            "Answer is= 60.5, Name type is= <class 'float'>\n"
          ],
          "name": "stdout"
        }
      ]
    },
    {
      "cell_type": "code",
      "metadata": {
        "id": "yeVNEK38gu1u"
      },
      "source": [
        ""
      ],
      "execution_count": null,
      "outputs": []
    }
  ]
}