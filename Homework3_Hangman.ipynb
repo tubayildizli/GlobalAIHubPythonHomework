{
  "nbformat": 4,
  "nbformat_minor": 0,
  "metadata": {
    "colab": {
      "name": "Untitled5.ipynb",
      "provenance": [],
      "authorship_tag": "ABX9TyMTmsit0EIzKJB4VYDc6Xe4",
      "include_colab_link": true
    },
    "kernelspec": {
      "name": "python3",
      "display_name": "Python 3"
    }
  },
  "cells": [
    {
      "cell_type": "markdown",
      "metadata": {
        "id": "view-in-github",
        "colab_type": "text"
      },
      "source": [
        "<a href=\"https://colab.research.google.com/github/tubayildizli/GlobalAIHubPythonHomework/blob/main/Homework3_Hangman.ipynb\" target=\"_parent\"><img src=\"https://colab.research.google.com/assets/colab-badge.svg\" alt=\"Open In Colab\"/></a>"
      ]
    },
    {
      "cell_type": "code",
      "metadata": {
        "colab": {
          "base_uri": "https://localhost:8080/"
        },
        "id": "xo58WbVGHhyG",
        "outputId": "7247094b-fe10-4d70-b9e9-a9713d0da36f"
      },
      "source": [
        "import random, time\r\n",
        "cities = ['adana', 'adıyaman', 'afyon', 'ağrı', 'amasya', 'ankara', 'antalya', 'artvin',\r\n",
        "'aydın', 'balıkesir', 'bilecik', 'bingöl', 'bitlis', 'bolu', 'burdur', 'bursa', 'çanakkale',\r\n",
        "'çankırı', 'çorum', 'denizli', 'diyarbakır', 'edirne', 'elazığ', 'erzincan', 'erzurum', 'eskişehir',\r\n",
        "'gaziantep', 'giresun', 'gümüşhane', 'hakkari', 'hatay', 'ısparta', 'mersin', 'istanbul', 'izmir', \r\n",
        "'kars', 'kastamonu', 'kayseri', 'kırklareli', 'kırşehir', 'kocaeli', 'konya', 'kütahya', 'malatya', \r\n",
        "'manisa', 'kahramanmaraş', 'mardin', 'muğla', 'muş', 'nevşehir', 'niğde', 'ordu', 'rize', 'sakarya',\r\n",
        "'samsun', 'siirt', 'sinop', 'sivas', 'tekirdağ', 'tokat', 'trabzon', 'tunceli', 'şanlıurfa', 'uşak',\r\n",
        "'van', 'yozgat', 'zonguldak', 'aksaray', 'bayburt', 'karaman', 'kırıkkale', 'batman', 'şırnak',\r\n",
        "'bartın', 'ardahan', 'ığdır', 'yalova', 'karabük', 'kilis', 'osmaniye', 'düzce']\r\n",
        "\r\n",
        "name = input(\"What is your name? :\")\r\n",
        "time.sleep(1)\r\n",
        "print(\"Hello\", name.capitalize(), \"let's start playing Hangman!\")\r\n",
        "time.sleep(2)\r\n",
        "print(\"Can you guess the city name in Turkey by entering a letter one by one?..\")\r\n",
        "time.sleep(2)\r\n",
        "print(\"Lets start...!!\")\r\n",
        "time.sleep(2)\r\n",
        "\r\n",
        "word = random.choice(cities)\r\n",
        "guesses=''\r\n",
        "turns = len(word)\r\n",
        "print(\"The number of allowed guesses for this word is:\", turns)\r\n",
        "\r\n",
        "while turns>0:\r\n",
        "  failed=0  #count the number of fails\r\n",
        "\r\n",
        "  for n in word:\r\n",
        "  \r\n",
        "    if n in guesses:\r\n",
        "      print(n)\r\n",
        "    \r\n",
        "    else:\r\n",
        "      print(\"_\")\r\n",
        "      failed +=1\r\n",
        "  if failed==0:\r\n",
        "      print(\"You win!\")\r\n",
        "      print(\"The word is: \", word)\r\n",
        "      break\r\n",
        "\r\n",
        "  guess=input(\"Guess the letter: \")\r\n",
        "  guesses+=guess\r\n",
        "\r\n",
        "  if guess not in word:\r\n",
        "    turns-=1\r\n",
        "    print(\"Wrong... Try again.\")\r\n",
        "    print(\"You have\", turns, \"turn more\")\r\n",
        "\r\n",
        "    if turns==0:\r\n",
        "      print(\"Game over :(\")\r\n",
        "      print(\"Secret word is\", word)"
      ],
      "execution_count": 24,
      "outputs": [
        {
          "output_type": "stream",
          "text": [
            "What is your name? :tugba\n",
            "Hello Tugba let's start playing Hangman!\n",
            "Can you guess the city name in Turkey by entering a letter one by one?..\n",
            "Lets start...!!\n",
            "The number of allowed guesses for this word is: 5\n",
            "_\n",
            "_\n",
            "_\n",
            "_\n",
            "_\n",
            "Guess the letter: a\n",
            "Wrong... Try again.\n",
            "You have 4 turn more\n",
            "_\n",
            "_\n",
            "_\n",
            "_\n",
            "_\n",
            "Guess the letter: e\n",
            "Wrong... Try again.\n",
            "You have 3 turn more\n",
            "_\n",
            "_\n",
            "_\n",
            "_\n",
            "_\n",
            "Guess the letter: i\n",
            "_\n",
            "i\n",
            "i\n",
            "_\n",
            "_\n",
            "Guess the letter: s\n",
            "s\n",
            "i\n",
            "i\n",
            "_\n",
            "_\n",
            "Guess the letter: r\n",
            "s\n",
            "i\n",
            "i\n",
            "r\n",
            "_\n",
            "Guess the letter: t\n",
            "s\n",
            "i\n",
            "i\n",
            "r\n",
            "t\n",
            "You win!\n",
            "The word is:  siirt\n"
          ],
          "name": "stdout"
        }
      ]
    },
    {
      "cell_type": "code",
      "metadata": {
        "id": "Taxp7_A2w8zR"
      },
      "source": [
        ""
      ],
      "execution_count": null,
      "outputs": []
    }
  ]
}